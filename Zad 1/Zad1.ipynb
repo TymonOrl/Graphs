{
 "cells": [
  {
   "cell_type": "code",
   "execution_count": 79,
   "metadata": {},
   "outputs": [],
   "source": [
    "import networkx as nx\n",
    "import numpy as np\n",
    "import matplotlib.pyplot as plt"
   ]
  },
  {
   "cell_type": "markdown",
   "metadata": {},
   "source": [
    "Parameters:"
   ]
  },
  {
   "cell_type": "code",
   "execution_count": 80,
   "metadata": {},
   "outputs": [],
   "source": [
    "m = 2           # number of edges to attach from a new node to existing nodes\n",
    "m0 = m          # initial number of nodes\n",
    "gamma = 2.1     # exponent for the preferential attachment\n",
    "n = 10**4       # number of nodes\n",
    "fixed_seed = 42 # for replicability we fix seed"
   ]
  },
  {
   "cell_type": "markdown",
   "metadata": {},
   "source": [
    "Krótkie Wyliczenia atrarkcyjności"
   ]
  },
  {
   "cell_type": "markdown",
   "metadata": {},
   "source": [
    "$$\n",
    "    \\gamma = 2 + \\frac{A}{m} \\rightarrow A = m(\\gamma - 2)\n",
    "$$"
   ]
  },
  {
   "cell_type": "markdown",
   "metadata": {},
   "source": [
    "$$\n",
    "    A = 2 \\cdot (2.5-2) = 1, ~ m=2, ~ \\gamma = 2.5\\\\\n",
    "    A = 1 \\cdot (2.2-2) = 0.2, ~ m=1, ~ \\gamma = 2.2\n",
    "$$"
   ]
  },
  {
   "cell_type": "code",
   "execution_count": 81,
   "metadata": {},
   "outputs": [
    {
     "data": {
      "text/plain": [
       "0.2"
      ]
     },
     "execution_count": 81,
     "metadata": {},
     "output_type": "execute_result"
    }
   ],
   "source": [
    "A = round( m*(gamma -2), 2)\n",
    "A"
   ]
  },
  {
   "cell_type": "code",
   "execution_count": 82,
   "metadata": {},
   "outputs": [
    {
     "data": {
      "text/plain": [
       "(2, 10)"
      ]
     },
     "execution_count": 82,
     "metadata": {},
     "output_type": "execute_result"
    }
   ],
   "source": [
    "multiplayer = 0\n",
    "\n",
    "if A < 0.01:\n",
    "    print('A is too small')\n",
    "    exit()\n",
    "elif A%1 == 0:\n",
    "        multiplayer = 1\n",
    "else:\n",
    "    tmp_A = A * 100\n",
    "    \n",
    "    if tmp_A%10 == 0:\n",
    "        multiplayer = 10\n",
    "    else:\n",
    "        multiplayer = 100\n",
    "\n",
    "scaled_A = int(A*multiplayer)      \n",
    "scaled_A, multiplayer"
   ]
  },
  {
   "cell_type": "code",
   "execution_count": 83,
   "metadata": {},
   "outputs": [],
   "source": [
    "np.random.seed(fixed_seed)"
   ]
  },
  {
   "cell_type": "markdown",
   "metadata": {},
   "source": [
    "Ann fully connected m0"
   ]
  },
  {
   "cell_type": "code",
   "execution_count": 84,
   "metadata": {},
   "outputs": [],
   "source": [
    "G = nx.Graph()"
   ]
  },
  {
   "cell_type": "code",
   "execution_count": 85,
   "metadata": {},
   "outputs": [],
   "source": [
    "# Add m0 nodes to the graph\n",
    "G.add_nodes_from(range(m0))\n",
    "\n",
    "# Add edges between all nodes\n",
    "for i in range(m0):\n",
    "    for j in range(i + 1, m0):\n",
    "        G.add_edge(i, j)"
   ]
  },
  {
   "cell_type": "code",
   "execution_count": 86,
   "metadata": {},
   "outputs": [],
   "source": [
    "# Create initial nodes array\n",
    "nodes_array = np.array([])\n",
    "for _ in range(multiplayer):\n",
    "    np.append(nodes_array, list(range(m0))*(m0-1))\n",
    "\n",
    "for i in range(m0):\n",
    "    for _ in range(scaled_A):\n",
    "        nodes_array = np.append(nodes_array, i)"
   ]
  },
  {
   "cell_type": "code",
   "execution_count": 87,
   "metadata": {},
   "outputs": [],
   "source": [
    "# Add n - m0 nodes to the graph\n",
    "for i in range(m0, n):\n",
    "    # Add m edges to the graph\n",
    "    for _ in range(m):\n",
    "        # Choose a random node to connect to\n",
    "        node = np.random.choice(nodes_array)\n",
    "        nodes_array = np.append(nodes_array, np.repeat(node, multiplayer)) # Add the chosen node to the nodes array\n",
    "        nodes_array = np.append(nodes_array, np.repeat(i, multiplayer)) # Add the new node to the nodes array\n",
    "        nodes_array = np.append(nodes_array, np.repeat(i, scaled_A)) # Add the new node to the nodes array\n",
    "        G.add_edge(i, node)\n",
    "        "
   ]
  },
  {
   "cell_type": "code",
   "execution_count": 88,
   "metadata": {},
   "outputs": [
    {
     "data": {
      "text/plain": [
       "Text(0.5, 1.0, 'Degree distribution')"
      ]
     },
     "execution_count": 88,
     "metadata": {},
     "output_type": "execute_result"
    },
    {
     "data": {
      "image/png": "[encoded data removed]",
      "text/plain": [
       "<Figure size 500x500 with 1 Axes>"
      ]
     },
     "metadata": {},
     "output_type": "display_data"
    }
   ],
   "source": [
    "degree_freq = nx.degree_histogram(G)\n",
    "degrees = range(len(degree_freq))\n",
    "degree_freq = [x / sum(degree_freq) for x in degree_freq]\n",
    "\n",
    "fig, ax = plt.subplots(figsize=(5, 5))\n",
    "ax.plot(degrees[m:], degree_freq[m:], 'o')\n",
    "ax.set_xscale('log')\n",
    "ax.set_yscale('log')\n",
    "ax.set_xlabel('Degree')\n",
    "ax.set_ylabel('Frequency')\n",
    "ax.set_title('Degree distribution')"
   ]
  }
 ],
 "metadata": {
  "kernelspec": {
   "display_name": ".venv",
   "language": "python",
   "name": "python3"
  },
  "language_info": {
   "codemirror_mode": {
    "name": "ipython",
    "version": 3
   },
   "file_extension": ".py",
   "mimetype": "text/x-python",
   "name": "python",
   "nbconvert_exporter": "python",
   "pygments_lexer": "ipython3",
   "version": "3.12.3"
  }
 },
 "nbformat": 4,
 "nbformat_minor": 2
}
